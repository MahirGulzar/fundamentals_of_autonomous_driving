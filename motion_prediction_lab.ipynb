{
 "cells": [
  {
   "attachments": {},
   "cell_type": "markdown",
   "metadata": {},
   "source": [
    "<hr />\n",
    "<em>LTAT.06.011 – Fundamentals of Autonomous Driving</em>\n",
    "\n",
    "\n",
    "## Motion prediction (Naive methods)\n",
    "\n",
    "In this Lab, we will explore some very naive approaches to predict motion of a target object. Tasks are orientated in a way that the difficulty of accessing the prediction problem increases as we progress forward. The crux here is to understand how naive prediction models perform well on simple scenarios but their performance deteriorates as scene complexity increases.\n",
    "\n",
    "\n",
    "#### Deliverable for the lab exercise:\n",
    "\n",
    "\n",
    "You will submit the same `jupyter-notebook` file. Please note that you don't need to submit the `helper.py` <b>unless</b> you do any modifications there which is not recommended. You are required to fill the missing code snippets. Additionally, each section requires your brief answer about what you understood.\n",
    "Submit the deliverable(s) through Moodle. Late policy is the same as earlier. For a delay of each day beyond the submission deadline, there is a `10%` penalty on the total marks. In other words, if you are late by one day, the score is capped at `90%` of the total marks. And if you are late by `10` days, no marks can be awarded for the lab exercise.\n",
    "\n",
    "\n",
    "For queries write to: mahir.gulzar@ut.ee\n",
    "<hr />\n",
    "\n"
   ]
  },
  {
   "attachments": {},
   "cell_type": "markdown",
   "metadata": {},
   "source": [
    "### Please answer following after you finish your assignment\n",
    "\n",
    "<span style=\"color:Red\">Question: </span>  How much time did it take for you to complete the assignment?"
   ]
  },
  {
   "cell_type": "markdown",
   "metadata": {},
   "source": [
    "<span style=\"color:Green\">Answer: </span>"
   ]
  },
  {
   "attachments": {},
   "cell_type": "markdown",
   "metadata": {},
   "source": [
    "</br>\n",
    "</br>\n",
    "</br>\n",
    "\n",
    "\n",
    "\n",
    "\n",
    "### Getting started"
   ]
  },
  {
   "attachments": {},
   "cell_type": "markdown",
   "metadata": {},
   "source": [
    "<em> Imports </em>"
   ]
  },
  {
   "cell_type": "code",
   "execution_count": null,
   "metadata": {},
   "outputs": [],
   "source": [
    "import numpy as np\n",
    "import matplotlib.pyplot as plt\n",
    "from helper import generate_linear_trajectory, generate_curved_trajectory, generate_circle_trajectory"
   ]
  },
  {
   "attachments": {},
   "cell_type": "markdown",
   "metadata": {},
   "source": [
    "We learned from the lecture that the motion of an object is usually modelled in the form trajectory. In following tasks you will be given a ground-turth trajectory. You are required to write a simple motion prediction method that takes in half ground-truth trajectory and estimates `n` future steps using history of the ground-truth. Please read the code comments carefully while writing your solution."
   ]
  },
  {
   "attachments": {},
   "cell_type": "markdown",
   "metadata": {},
   "source": [
    "<hr />\n",
    "\n",
    "\n",
    "### Task-1: Linear trajectory: \n",
    "In this task we will model a linear trajectory using constant velocity model.\n",
    "\n",
    "<hr />"
   ]
  },
  {
   "attachments": {},
   "cell_type": "markdown",
   "metadata": {},
   "source": [
    "<em> Run code section below, it should display an example linear trajectory </em>"
   ]
  },
  {
   "cell_type": "code",
   "execution_count": null,
   "metadata": {},
   "outputs": [],
   "source": [
    "# Generate the trajectory\n",
    "start_point = (0, 0)        # Start of the trajectory\n",
    "end_point = (10, 3)         # End of the trajectory\n",
    "num_points = 20             # Number of points in the trajectory\n",
    "\n",
    "# Following method takes in tuple of starting point, ending point and number of points in between. It returns a 2D linear trajectory.\n",
    "linear_trajectory_ground_truth = generate_linear_trajectory(start_point, end_point, num_points)\n",
    "\n",
    "\n",
    "# Plot the trajectory\n",
    "x_vals = [p[0] for p in linear_trajectory_ground_truth]\n",
    "y_vals = [p[1] for p in linear_trajectory_ground_truth]\n",
    "plt.plot(x_vals, y_vals, 'bo-')\n",
    "plt.xlabel('X')\n",
    "plt.ylabel('Y')\n",
    "plt.title('2D Linear Trajectory Ground Truth')\n",
    "plt.show()"
   ]
  },
  {
   "attachments": {},
   "cell_type": "markdown",
   "metadata": {},
   "source": [
    "<em> Write a function `predict_trajectory` that takes in 2D trajectory and predicts next `n` number of future trajectory points using simple constant velocity model. The function should return complete trajectory i.e. the output size of the predicted trajectory should be `input_points + n_future_points`  You can assume fixed time delta `dt=0.1`</em>"
   ]
  },
  {
   "cell_type": "code",
   "execution_count": null,
   "metadata": {},
   "outputs": [],
   "source": [
    "####################################\n",
    "###### YOUR CODE STARTS HERE #######\n",
    "####################################\n",
    "\n",
    "\n",
    "\n",
    "\n",
    "#################################\n",
    "###### YOUR CODE ENDS HERE ######\n",
    "#################################"
   ]
  },
  {
   "cell_type": "markdown",
   "metadata": {},
   "source": [
    "<em> Call the `predict_trajectory` method you wrote above with required arguments</em>"
   ]
  },
  {
   "cell_type": "code",
   "execution_count": null,
   "metadata": {},
   "outputs": [],
   "source": [
    "# Generate the trajectory\n",
    "start_point = (0, 0)        # Start of the trajectory\n",
    "end_point = (10, 3)         # End of the trajectory\n",
    "num_points = 20             # Number of points in the trajectory\n",
    "\n",
    "# Following method takes in tuple of starting point, ending point and number of points in between. It returns a 2D linear trajectory.\n",
    "linear_trajectory_ground_truth = generate_linear_trajectory(start_point, end_point, num_points)\n",
    "\n",
    "\n",
    "# Define the time step and number of points to predict\n",
    "n = 10\n",
    "half_len = int(len(linear_trajectory_ground_truth)/2)\n",
    "\n",
    "####################################\n",
    "###### YOUR CODE STARTS HERE #######\n",
    "####################################\n",
    "\n",
    "# REMOVE BELOW LINE: and call predict_trajectory method which your wrote above with required arguments\n",
    "predicted_trajectory = linear_trajectory_ground_truth[:half_len]\n",
    "\n",
    "\n",
    "#################################\n",
    "###### YOUR CODE ENDS HERE ######\n",
    "#################################\n",
    "\n",
    "# Plot the original and predicted trajectories\n",
    "fig, ax = plt.subplots()\n",
    "ax.plot(linear_trajectory_ground_truth[:, 0], linear_trajectory_ground_truth[:, 1], 'bo-', label='Original Trajectory', markersize=4, zorder=2)\n",
    "ax.plot(predicted_trajectory[:, 0], predicted_trajectory[:, 1], 'bo-', label='Predicted Trajectory', color='red',  zorder=1)\n",
    "ax.scatter(linear_trajectory_ground_truth[half_len][0], linear_trajectory_ground_truth[half_len][1], label='Prediction Starts', marker='*'  , color='green', s=[150],  zorder=3)\n",
    "ax.scatter(linear_trajectory_ground_truth[-1][0], linear_trajectory_ground_truth[-1][1], label='Prediction Ends', marker='s'  , color='black', s=[50],  zorder=3)\n",
    "ax.axis('equal')\n",
    "ax.set_xlabel('X')\n",
    "ax.set_ylabel('Y')\n",
    "ax.set_title('Predicted Trajectory Linear (Velocity))')\n",
    "ax.legend()\n",
    "plt.show()"
   ]
  },
  {
   "attachments": {},
   "cell_type": "markdown",
   "metadata": {},
   "source": [
    "<span style=\"color:Red\">Question: </span> Describe what you see. Also explain with your own understanding, for which types of object will this model work? When should it fail?\n",
    "<br>"
   ]
  },
  {
   "attachments": {},
   "cell_type": "markdown",
   "metadata": {},
   "source": [
    "<span style=\"color:Green\">Answer: </span>"
   ]
  },
  {
   "attachments": {},
   "cell_type": "markdown",
   "metadata": {},
   "source": [
    "<hr />\n",
    "\n",
    "\n",
    "### Task-2: Curved trajectory: \n",
    "Similar to previous task, in this task we will try to model motion of an object which is moving in a curved path.\n",
    "\n",
    "<hr />"
   ]
  },
  {
   "attachments": {},
   "cell_type": "markdown",
   "metadata": {},
   "source": [
    "<em> Run code section below, it should display an example curved trajectory </em>"
   ]
  },
  {
   "cell_type": "code",
   "execution_count": null,
   "metadata": {},
   "outputs": [],
   "source": [
    "# Define the starting and ending points and number of points\n",
    "start_point = (0, 0)\n",
    "end_point = (10, 10)\n",
    "num_points = 20\n",
    "\n",
    "# Generate the curved trajectory\n",
    "trajectory = generate_curved_trajectory(start_point, end_point, num_points)\n",
    "\n",
    "# Plot the trajectory\n",
    "fig, ax = plt.subplots()\n",
    "ax.plot(trajectory[:, 0], trajectory[:, 1], 'bo-', label='Curved Trajectory')\n",
    "plt.xlabel('X')\n",
    "plt.ylabel('Y')\n",
    "plt.title('2D Curved Trajectory')\n",
    "ax.legend()\n",
    "plt.show()\n"
   ]
  },
  {
   "attachments": {},
   "cell_type": "markdown",
   "metadata": {},
   "source": [
    "<em> Call the `predict_trajectory` method you wrote above with required arguments</em>"
   ]
  },
  {
   "cell_type": "code",
   "execution_count": null,
   "metadata": {},
   "outputs": [],
   "source": [
    "# Generate the trajectory\n",
    "start_point = (0, 0)        # Start of the trajectory\n",
    "end_point = (10, 3)         # End of the trajectory\n",
    "num_points = 20             # Number of points in the trajectory\n",
    "\n",
    "# Following method takes in tuple of starting point, ending point and number of points in between. It returns a 2D curved trajectory.\n",
    "curved_trajectory_ground_truth = generate_curved_trajectory(start_point, end_point, num_points)\n",
    "\n",
    "\n",
    "# Define the time step and number of points to predict\n",
    "n = 10\n",
    "half_len = int(len(curved_trajectory_ground_truth)/2)\n",
    "\n",
    "####################################\n",
    "###### YOUR CODE STARTS HERE #######\n",
    "####################################\n",
    "\n",
    "# REMOVE BELOW LINE: and call predict_trajectory method which your wrote above with required arguments\n",
    "predicted_trajectory = curved_trajectory_ground_truth[:half_len]\n",
    "\n",
    "\n",
    "#################################\n",
    "###### YOUR CODE ENDS HERE ######\n",
    "#################################\n",
    "\n",
    "# Plot the original and predicted trajectories\n",
    "fig, ax = plt.subplots()\n",
    "ax.plot(curved_trajectory_ground_truth[:, 0], curved_trajectory_ground_truth[:, 1], 'bo-', label='Original Trajectory', markersize=4, zorder=2)\n",
    "ax.plot(predicted_trajectory[:, 0], predicted_trajectory[:, 1], 'bo-', label='Predicted Trajectory', color='red',  zorder=1)\n",
    "ax.scatter(curved_trajectory_ground_truth[half_len][0], curved_trajectory_ground_truth[half_len][1], label='Prediction Starts', marker='*'  , color='green', s=[150],  zorder=3)\n",
    "ax.scatter(curved_trajectory_ground_truth[-1][0], curved_trajectory_ground_truth[-1][1], label='Prediction Ends', marker='s'  , color='black', s=[50],  zorder=3)\n",
    "ax.axis('equal')\n",
    "ax.set_xlabel('X')\n",
    "ax.set_ylabel('Y')\n",
    "ax.set_title('Predicted Trajectory Curved  (Velocity))')\n",
    "ax.legend()\n",
    "plt.show()\n"
   ]
  },
  {
   "attachments": {},
   "cell_type": "markdown",
   "metadata": {},
   "source": [
    "<span style=\"color:Red\">Question: </span> Describe what you see. Why the motion model failed here? Did you thought of this failure while you were answering the linear case? \n",
    "<br>"
   ]
  },
  {
   "cell_type": "markdown",
   "metadata": {},
   "source": [
    "<span style=\"color:Green\">Answer: </span>"
   ]
  },
  {
   "attachments": {},
   "cell_type": "markdown",
   "metadata": {},
   "source": [
    "<em> Lets modify the `predict_trajectory` method so that in addition to velocity we also make use of acceleration. What you need to do is to add a keyword parameter `use_acceleration` to the function which by default should be `false`. Depending on the function call you can toggle the use acceleration in the prediction functionality.</em>"
   ]
  },
  {
   "cell_type": "code",
   "execution_count": null,
   "metadata": {},
   "outputs": [],
   "source": [
    "####################################\n",
    "###### YOUR CODE STARTS HERE #######\n",
    "####################################\n",
    "\n",
    "# Write the updated predit_trajectory function here OR update it where you wrote it above\n",
    "\n",
    "#################################\n",
    "###### YOUR CODE ENDS HERE ######\n",
    "#################################\n"
   ]
  },
  {
   "attachments": {},
   "cell_type": "markdown",
   "metadata": {},
   "source": [
    "<em> Call the updated `predict_trajectory` method with `use_acceleration=True` </em>"
   ]
  },
  {
   "cell_type": "code",
   "execution_count": null,
   "metadata": {},
   "outputs": [],
   "source": [
    "# Generate the trajectory\n",
    "start_point = (0, 0)        # Start of the trajectory\n",
    "end_point = (10, 3)         # End of the trajectory\n",
    "num_points = 20             # Number of points in the trajectory\n",
    "\n",
    "# Following method takes in tuple of starting point, ending point and number of points in between. It returns a 2D curved trajectory.\n",
    "curved_trajectory_ground_truth = generate_curved_trajectory(start_point, end_point, num_points)\n",
    "\n",
    "\n",
    "# Define the time step and number of points to predict\n",
    "n = 10\n",
    "half_len = int(len(curved_trajectory_ground_truth)/2)\n",
    "\n",
    "####################################\n",
    "###### YOUR CODE STARTS HERE #######\n",
    "####################################\n",
    "\n",
    "# REMOVE BELOW LINE: and call the updated predict_trajectory method which your wrote above with use_acceleration=True\n",
    "predicted_trajectory = curved_trajectory_ground_truth[:half_len]\n",
    "\n",
    "\n",
    "#################################\n",
    "###### YOUR CODE ENDS HERE ######\n",
    "#################################\n",
    "\n",
    "# Plot the original and predicted trajectories\n",
    "fig, ax = plt.subplots()\n",
    "ax.plot(curved_trajectory_ground_truth[:, 0], curved_trajectory_ground_truth[:, 1], 'bo-', label='Original Trajectory', markersize=4, zorder=2)\n",
    "ax.plot(predicted_trajectory[:, 0], predicted_trajectory[:, 1], 'bo-', label='Predicted Trajectory', color='red',  zorder=1)\n",
    "ax.scatter(curved_trajectory_ground_truth[half_len][0], curved_trajectory_ground_truth[half_len][1], label='Prediction Starts', marker='*'  , color='green', s=[150],  zorder=3)\n",
    "ax.scatter(curved_trajectory_ground_truth[-1][0], curved_trajectory_ground_truth[-1][1], label='Prediction Ends', marker='s'  , color='black', s=[50],  zorder=3)\n",
    "ax.axis('equal')\n",
    "ax.set_xlabel('X')\n",
    "ax.set_ylabel('Y')\n",
    "ax.set_title('Predicted Trajectory Curved (Acceleration))')\n",
    "ax.legend()\n",
    "plt.show()"
   ]
  },
  {
   "attachments": {},
   "cell_type": "markdown",
   "metadata": {},
   "source": [
    "<span style=\"color:Red\">Question: </span> Describe what you see. From your understanding, If we add more derivatives in motion model, would we gain more better results, Would it even make sense if we add derivative of acceleration a.k.a [Jerk](https://en.wikipedia.org/wiki/Jerk_(physics))?\n",
    "<br>"
   ]
  },
  {
   "cell_type": "markdown",
   "metadata": {},
   "source": [
    "<span style=\"color:Green\">Answer: </span>"
   ]
  },
  {
   "attachments": {},
   "cell_type": "markdown",
   "metadata": {},
   "source": [
    "<hr />\n",
    "\n",
    "\n",
    "### Task-3: Circular trajectory: \n",
    "Lets test our updated `predict_trajectory` for an object which is moving in circle.\n",
    "\n",
    "<hr />"
   ]
  },
  {
   "cell_type": "code",
   "execution_count": null,
   "metadata": {},
   "outputs": [],
   "source": [
    "# Define the center of the circle, radius, and number of points\n",
    "center = (0, 0)\n",
    "radius = 2\n",
    "num_points = 50\n",
    "\n",
    "# Generate the circular trajectory\n",
    "circular_trajectory = generate_circle_trajectory(center, radius, num_points)\n",
    "\n",
    "# Define the time step and number of points to predict\n",
    "n = 10\n",
    "half_len = int(len(circular_trajectory)/2)\n",
    "\n",
    "\n",
    "####################################\n",
    "###### YOUR CODE STARTS HERE #######\n",
    "####################################\n",
    "\n",
    "\n",
    "# REMOVE BELOW LINE: and call the updated predict_trajectory method which your wrote above with use_acceleration=True\n",
    "predicted_trajectory = circular_trajectory[:half_len]\n",
    "\n",
    "\n",
    "#################################\n",
    "###### YOUR CODE ENDS HERE ######\n",
    "#################################\n",
    "\n",
    "# Plot the original and predicted trajectories\n",
    "fig, ax = plt.subplots()\n",
    "ax.plot(circular_trajectory[:, 0], circular_trajectory[:, 1], 'bo-', label='Original Trajectory', markersize=4, zorder=2)\n",
    "ax.plot(predicted_trajectory[:, 0], predicted_trajectory[:, 1], 'bo-', label='Predicted Trajectory', color='red',  zorder=1)\n",
    "ax.scatter(circular_trajectory[half_len][0], circular_trajectory[half_len][1], label='Prediction Starts', marker='*'  , color='green', s=[150],  zorder=3)\n",
    "ax.scatter(predicted_trajectory[-1][0], predicted_trajectory[-1][1], label='Prediction Ends', marker='s'  , color='black', s=[50],  zorder=3)\n",
    "ax.axis('equal')\n",
    "ax.set_xlabel('X')\n",
    "ax.set_ylabel('Y')\n",
    "ax.set_title('Predicted Trajectory Circle (Acceleration)')\n",
    "ax.legend()\n",
    "plt.show()\n",
    "\n"
   ]
  },
  {
   "attachments": {},
   "cell_type": "markdown",
   "metadata": {},
   "source": [
    "<span style=\"color:Red\">Question: </span> Describe what you see. \n",
    "<br>"
   ]
  },
  {
   "cell_type": "markdown",
   "metadata": {},
   "source": [
    "<span style=\"color:Green\">Answer: </span>"
   ]
  },
  {
   "attachments": {},
   "cell_type": "markdown",
   "metadata": {},
   "source": [
    "<span style=\"color:Yellow\">Question: (Optional): </span> In general, how would a model know that the object is moving in circular path, any suggestions?"
   ]
  },
  {
   "cell_type": "markdown",
   "metadata": {},
   "source": [
    "<span style=\"color:Green\">Answer: </span>"
   ]
  },
  {
   "attachments": {},
   "cell_type": "markdown",
   "metadata": {},
   "source": [
    "<hr />\n",
    "\n",
    "\n",
    "### Task-4: Noisy measurements\n",
    "Previously, we were relying on smooth trajectories as ground-truth but real world data is noisy. The past trajectory given to the prediction model can have both longitudinal and lateral noise. In this task, you are required to re-run `one` experiment (choose any) which you performed previously but this time you should add noise both along x and y axis of the ground-truth trajectory. You can copy code snippets from previous sections.\n",
    "\n",
    "<hr />"
   ]
  },
  {
   "attachments": {},
   "cell_type": "markdown",
   "metadata": {},
   "source": [
    "<em> Get a ground truth trajectory, add some measurement noise along both x & y axis, call the `predict_trajectory` method and visualize the results</em>"
   ]
  },
  {
   "cell_type": "code",
   "execution_count": null,
   "metadata": {},
   "outputs": [],
   "source": [
    "####################################\n",
    "###### YOUR CODE STARTS HERE #######\n",
    "####################################\n",
    "\n",
    "\n",
    "\n",
    "\n",
    "#################################\n",
    "###### YOUR CODE ENDS HERE ######\n",
    "#################################"
   ]
  },
  {
   "attachments": {},
   "cell_type": "markdown",
   "metadata": {},
   "source": [
    "<span style=\"color:Red\">Question: </span> Describe your experiment results. Did the model handle noisy data well?\n",
    "<br>"
   ]
  },
  {
   "cell_type": "markdown",
   "metadata": {},
   "source": [
    "<span style=\"color:Green\">Answer: </span>"
   ]
  },
  {
   "attachments": {},
   "cell_type": "markdown",
   "metadata": {},
   "source": [
    "<hr />\n",
    "\n",
    "\n",
    "### Task-5: Filter based predictions\n",
    "In previous lectures, we studied Kalman Filters, which helped us with noisy measurements in localization. In modular pipeline, you will quite often find these filters in localization and tracking module of the stack. When we track an obstacle, what we are usually doing under the hood is updating state-estimates of that obstacle using associated detections as measurement updates to the filter.\n",
    "\n",
    "In this task, we will use a Kalman filter to predict future `n` steps of the obstacle. For the update step we will use noisy measurement instead of the ground-truth. You don't need to write the filter yourself, it is already given to you in `helpers.py`. Take a look at the parameters and methods of KalmanFilter class.\n",
    "\n",
    "<hr />"
   ]
  },
  {
   "attachments": {},
   "cell_type": "markdown",
   "metadata": {},
   "source": [
    "In the section below. You are required to fill the missing code block. Following are steps you need to perform to complete this task.\n",
    "\n",
    "1. Create a new array `trajectory_measurement` which will be noisy version of original trajectory see variable `original_trajectory`.\n",
    "\n",
    "2. Instantiate an object of KalmanFilter class. The constructor takes in first measurement and boolean telling the filter to toggle between velocity or acceleration model.\n",
    "\n",
    "3. Iterate over `trajectory_measurement` array, in each iteration call `predict()` and `update()`. <span style=\"color:Red\">NOTE: </span>.   The measurement updates to the filter should stop after half length of the trajectory (see variable `half_len` ). \n",
    "\n",
    "4. During iteration, if `half_len` is crossed then your code should only call `predict()` function and only run `n` more iterations afterwards. \n",
    "\n",
    "5. During each iteration you will collect the latest state of the filter by calling the `get_state()[0:2]`. This will give you latest positional estimate of the filter. The positional estimates should be collected in numpy array called `filter_predicted_trajectory`.\n",
    "\n",
    "6. Once you populate the `filter_predicted_trajectory`, In the last step, you will run your naive `predict_trajectory` over the same `trajectory_measurement` and save the results in variable called `naive_predicted_trajectory`. In this way, you will have prediction results from two different methods to compared with.\n"
   ]
  },
  {
   "cell_type": "code",
   "execution_count": null,
   "metadata": {},
   "outputs": [],
   "source": [
    "from helper import KalmanFilter\n",
    "\n",
    "\n",
    "# Generate the trajectory\n",
    "start_point = (0, 0)        # Start of the trajectory\n",
    "end_point = (10, 3)         # End of the trajectory\n",
    "num_points = 20             # Number of points in the trajectory\n",
    "\n",
    "original_trajectory = generate_curved_trajectory(start_point, end_point, num_points)\n",
    "\n",
    "\n",
    "n = 10\n",
    "measurement_noise = 0.06\n",
    "half_len = int((len(trajectory)/2))\n",
    "\n",
    "###################################\n",
    "###### YOUR CODE STARTS HERE ######\n",
    "###################################\n",
    "\n",
    "# REMOVE BELOW TWO LINES: and follow the instructions 1 to 5 written in task description.\n",
    "trajectory_measurement = original_trajectory\n",
    "filter_predicted_trajectory = trajectory_measurement[:half_len]\n",
    "\n",
    "\n",
    "\n",
    "\n",
    "\n",
    "\n",
    "# REMOVE BELOW LINE: and follow the instruction number 6 written in task description.\n",
    "naive_predicted_trajectory = trajectory_measurement[:half_len]\n",
    "\n",
    "#################################\n",
    "###### YOUR CODE ENDS HERE ######\n",
    "#################################\n",
    "\n",
    "\n",
    "fig, (ax1, ax2) = plt.subplots(nrows=1, ncols=2, figsize=(15, 5))\n",
    "ax1.plot(original_trajectory[:, 0], original_trajectory[:, 1], 'b-', label='True Positions',  zorder=2)\n",
    "ax1.scatter(trajectory_measurement[:,0], trajectory_measurement[:,1], label='Noisy Measurements',s=[10]*(len(trajectory_measurement)), color='r', zorder=3)\n",
    "ax1.plot(filter_predicted_trajectory[:,0], filter_predicted_trajectory[:,1], 'bo-', label='Filter Predictions', color='g',  zorder=1)\n",
    "ax1.scatter(trajectory_measurement[half_len][0], trajectory_measurement[half_len][1], label='Prediction Starts', marker='*', color='orange', s=[150],  zorder=3)\n",
    "ax1.scatter(filter_predicted_trajectory[-1:,0], filter_predicted_trajectory[-1:,1], label='Prediction Ends', marker='s'  , color='black', s=[50],  zorder=3)\n",
    "ax1.axis('equal')\n",
    "ax1.set_xlabel('X')\n",
    "ax1.set_ylabel('Y')\n",
    "ax1.set_title('Predicted Trajectory (Kalman Filter)')\n",
    "ax1.legend()\n",
    "\n",
    "ax2.plot(original_trajectory[:, 0], original_trajectory[:, 1], 'b-', label='True Positions',  zorder=2)\n",
    "ax2.scatter(trajectory_measurement[:,0], trajectory_measurement[:,1], label='Noisy Measurements',s=[10]*(len(trajectory_measurement)), color='r', zorder=3)\n",
    "ax2.plot(naive_predicted_trajectory[:,0], naive_predicted_trajectory[:,1], 'bo-', label='Naive Predictions', color='green',  zorder=1)\n",
    "ax2.scatter(trajectory_measurement[half_len][0], trajectory_measurement[half_len][1], label='Prediction Starts', marker='*', color='orange', s=[150],  zorder=3)\n",
    "ax2.scatter(naive_predicted_trajectory[-1:,0], naive_predicted_trajectory[-1:,1], label='Prediction Ends', marker='s'  , color='black', s=[50],  zorder=3)\n",
    "ax2.axis('equal')\n",
    "ax2.set_xlabel('X')\n",
    "ax2.set_ylabel('Y')\n",
    "ax2.set_title('Predicted Trajectory (Naive)')\n",
    "ax2.legend()\n",
    "\n"
   ]
  },
  {
   "attachments": {},
   "cell_type": "markdown",
   "metadata": {},
   "source": [
    "<span style=\"color:Red\">Question: </span> Compare results of both prediction models. (For better understanding run the above code block multiple times)\n",
    "<br>"
   ]
  },
  {
   "attachments": {},
   "cell_type": "markdown",
   "metadata": {},
   "source": [
    "<span style=\"color:Green\">Answer: </span>"
   ]
  }
 ],
 "metadata": {
  "kernelspec": {
   "display_name": "Python 3",
   "language": "python",
   "name": "python3"
  },
  "language_info": {
   "codemirror_mode": {
    "name": "ipython",
    "version": 3
   },
   "file_extension": ".py",
   "mimetype": "text/x-python",
   "name": "python",
   "nbconvert_exporter": "python",
   "pygments_lexer": "ipython3",
   "version": "3.8.10"
  },
  "orig_nbformat": 4
 },
 "nbformat": 4,
 "nbformat_minor": 2
}
